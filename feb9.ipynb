{
 "cells": [
  {
   "cell_type": "code",
   "execution_count": 10,
   "id": "83370475-8793-4147-9948-696306f66843",
   "metadata": {},
   "outputs": [
    {
     "data": {
      "text/plain": [
       "'the name of vehicale is toyata and the vehicale is maximum speed  is 340km/hr and the avarage of vehicale is 25'"
      ]
     },
     "execution_count": 10,
     "metadata": {},
     "output_type": "execute_result"
    }
   ],
   "source": [
    "class Vehicale:\n",
    "    def __init__(self,name_of_vehicle,max_speed,average_of_vehicle):\n",
    "        self.name_of_vehicle=name_of_vehicle\n",
    "        self.max_speed=max_speed\n",
    "        self.average_of_vehicle=average_of_vehicle\n",
    "    def show_vehicale_details(self):\n",
    "        return f\"the name of vehicale is {self.name_of_vehicle} and the vehicale is maximum speed  is {self.max_speed} and the avarage of vehicale is {self.average_of_vehicle}\"\n",
    "    \n",
    "toyta=Vehicale(\"toyata\",\"340km/hr\",25)\n",
    "toyta.show_vehicale_details()"
   ]
  },
  {
   "cell_type": "code",
   "execution_count": 15,
   "id": "a7938640-8683-46da-bb15-e41f0040f0dd",
   "metadata": {},
   "outputs": [],
   "source": [
    "# Q2. Create a child class car from the vehicle class created in Que 1, which will inherit the vehicle class.\n",
    "# Create a method named seating_capacity which takes capacity as an argument and returns the name of\n",
    "# # the vehicle and its seating capacity.\n",
    "class Vehicale:\n",
    "    def __init__(self,name_of_vehicle,max_speed,average_of_vehicle):\n",
    "        self.name_of_vehicle=name_of_vehicle\n",
    "        self.max_speed=max_speed\n",
    "        self.average_of_vehicle=average_of_vehicle\n",
    "    def seating_capicity(self,capcity):\n",
    "        self.capcity=capcity\n",
    "    def show_vehicale_details(self):\n",
    "        return f'''the name of vehicale is {self.name_of_vehicle} and the vehicale is maximum speed  is {self.max_speed} and the avarage of vehicale is {self.average_of_vehicle} and the capacity of vehica{self.capacity}]'''\n",
    "toyta=Vehicale(\"toyata\",\"340km/hr\",25)\n",
    "toyta.seating_capicity(4)"
   ]
  },
  {
   "cell_type": "code",
   "execution_count": 10,
   "id": "4c567083-d7ee-4e5d-a1c9-475feda080e1",
   "metadata": {},
   "outputs": [],
   "source": [
    "# Q3. What is multiple inheritance? Write a python code to demonstrate multiple inheritance.\n",
    "# ANS 3 In this Multiple inheritance is a feature in object-oriented programming where a class can inherit \n",
    "# properties and methods from more than one parent class. and conected  to each  other.\n",
    "class car:\n",
    "    def car_details(self):\n",
    "        print(\"this is my car alto\")\n",
    "class car_owner(car):\n",
    "    def car_owner1(self):\n",
    "        print(\"the car owner is king khan\")\n",
    "class car_fulL_details(car_owner):\n",
    "    pass"
   ]
  },
  {
   "cell_type": "code",
   "execution_count": 16,
   "id": "faef9d27-7eeb-4d6c-bf68-8c5fc14d1ffc",
   "metadata": {},
   "outputs": [],
   "source": [
    "\n",
    "# Q4. What are getter and setter in python? Create a class and create a getter and a setter method in this\n",
    "# class.\n",
    "# ANS 2 Getter is used to acces to setter is used to set any value and to makinbg method. deleter is used to delete value.\n",
    "class pwskills:\n",
    "    def __init__(self,course_price,course_details):\n",
    "        self.__course_price=course_price\n",
    "        self.course_details=course_details\n",
    "    @property\n",
    "    def course_price_access(self):# this getter\n",
    "        return self.__course_price\n",
    "    @course_price_access.setter #this is setter\n",
    "    def course_price_set(self,price):\n",
    "        if price<=3500:\n",
    "            pass\n",
    "        else:\n",
    "            self.__course_price=price\n",
    "    @course_price_access.deleter\n",
    "    def course_price_access(self):\n",
    "        del self.__course_price\n",
    "    "
   ]
  },
  {
   "cell_type": "code",
   "execution_count": 17,
   "id": "ae22c6a4-8e2d-44e1-82f6-8d52b2a57554",
   "metadata": {},
   "outputs": [],
   "source": [
    "pw=pwskills(3500,\"data science\")\n",
    "pw.course_price_set=4500"
   ]
  },
  {
   "cell_type": "code",
   "execution_count": 18,
   "id": "2d427407-0b30-42a4-8872-c2e5a1877faf",
   "metadata": {},
   "outputs": [],
   "source": [
    "del pw.course_price_access"
   ]
  },
  {
   "cell_type": "code",
   "execution_count": 26,
   "id": "66e7fc17-1a6c-4351-b76c-af717fe443d5",
   "metadata": {},
   "outputs": [
    {
     "name": "stdout",
     "output_type": "stream",
     "text": [
      "the dog sounds like bhaw bhaw\n"
     ]
    }
   ],
   "source": [
    "# Q5.What is method overriding in python? Write a python code to demonstrate method overriding.\n",
    "# Ans 5 Method overriding is method of ops in python this is allow to subclass to provide a different implementaion.\n",
    "class Animal:\n",
    "    def sound(self):\n",
    "        print(\"the animal have own sound\")\n",
    "class Dog(Animal):\n",
    "    def sound(slef):\n",
    "        print(\"the dog sounds like bhaw bhaw\")\n",
    "My_animal= Dog()\n",
    "My_animal.sound()"
   ]
  },
  {
   "cell_type": "code",
   "execution_count": null,
   "id": "8dd4db15-78d9-4f27-921c-c99ce2e924cc",
   "metadata": {},
   "outputs": [],
   "source": []
  }
 ],
 "metadata": {
  "kernelspec": {
   "display_name": "Python 3 (ipykernel)",
   "language": "python",
   "name": "python3"
  },
  "language_info": {
   "codemirror_mode": {
    "name": "ipython",
    "version": 3
   },
   "file_extension": ".py",
   "mimetype": "text/x-python",
   "name": "python",
   "nbconvert_exporter": "python",
   "pygments_lexer": "ipython3",
   "version": "3.10.6"
  }
 },
 "nbformat": 4,
 "nbformat_minor": 5
}
